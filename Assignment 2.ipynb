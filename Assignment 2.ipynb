{
 "cells": [
  {
   "cell_type": "code",
   "execution_count": null,
   "id": "3f4d8dbf-3ce2-4413-815d-9b3fba15619c",
   "metadata": {},
   "outputs": [],
   "source": [
    "# Assignment 2 "
   ]
  },
  {
   "cell_type": "code",
   "execution_count": null,
   "id": "a04643b4-db5a-45f8-9aa9-545c71f39822",
   "metadata": {},
   "outputs": [],
   "source": [
    "# Q1"
   ]
  },
  {
   "cell_type": "code",
   "execution_count": 12,
   "id": "c8d1e30d-a36b-41c3-85a6-84346842f6a1",
   "metadata": {},
   "outputs": [
    {
     "name": "stdin",
     "output_type": "stream",
     "text": [
      "Enter your percentage:  89\n"
     ]
    },
    {
     "name": "stdout",
     "output_type": "stream",
     "text": [
      "Your grade is B.\n"
     ]
    }
   ],
   "source": [
    "percentage = int(input(\"Enter your percentage: \"))\n",
    "\n",
    "if percentage > 90 :\n",
    "    print(\"Your grade is A.\")\n",
    "elif percentage > 80 and percentage <= 90:\n",
    "    print(\"Your grade is B.\")\n",
    "elif percentage >= 60 and percentage <= 80:\n",
    "    print(\"Your grade is C.\")\n",
    "else: \n",
    "    print(\"Your grade is D.\")\n"
   ]
  },
  {
   "cell_type": "code",
   "execution_count": 13,
   "id": "4ff28aef-5295-44c2-9f86-f9c4c5cc93cc",
   "metadata": {},
   "outputs": [],
   "source": [
    "# Q2\n"
   ]
  },
  {
   "cell_type": "code",
   "execution_count": 18,
   "id": "58ea1162-6384-48ea-97f9-d52ec7ebd549",
   "metadata": {},
   "outputs": [
    {
     "name": "stdin",
     "output_type": "stream",
     "text": [
      "Enter Your cost Price Of Bike 8989\n"
     ]
    },
    {
     "name": "stdout",
     "output_type": "stream",
     "text": [
      "Tax is equal to 5% \n"
     ]
    }
   ],
   "source": [
    "cost_price=int(input(\"Enter Your cost Price Of Bike\"))\n",
    "if cost_price > 100000:\n",
    "    print(\"Tax is equal to 15% \")\n",
    "elif cost_price > 50000 and cost_price <= 100000:\n",
    "    print(\"Tax is equal to 10% \")\n",
    "else:\n",
    "    print(\"Tax is equal to 5% \")"
   ]
  },
  {
   "cell_type": "code",
   "execution_count": 19,
   "id": "cfa6a331-0b76-40a7-9b2f-2c299223205b",
   "metadata": {},
   "outputs": [],
   "source": [
    "# Q3"
   ]
  },
  {
   "cell_type": "code",
   "execution_count": 28,
   "id": "d6893236-bf06-4cab-930c-f09fbe9992ed",
   "metadata": {},
   "outputs": [
    {
     "name": "stdin",
     "output_type": "stream",
     "text": [
      "enter your city Delhi\n"
     ]
    },
    {
     "name": "stdout",
     "output_type": "stream",
     "text": [
      "Red Fort\n"
     ]
    }
   ],
   "source": [
    "city=str(input(\"enter your city\"))\n",
    "if city == \"Delhi\":\n",
    "    print(\"Red Fort\")\n",
    "elif city == \"Agra\":\n",
    "    print(\"Taj Mahal\")\n",
    "elif city == \"Jaipur\":\n",
    "    print(\"jai Mahal\")\n",
    "else:\n",
    "    print(\"data is not available\")"
   ]
  },
  {
   "cell_type": "code",
   "execution_count": 4,
   "id": "b394bc12-a473-459b-8f00-d0064048b134",
   "metadata": {},
   "outputs": [
    {
     "name": "stdin",
     "output_type": "stream",
     "text": [
      "Enter your number 2333\n"
     ]
    },
    {
     "data": {
      "text/plain": [
       "5"
      ]
     },
     "execution_count": 4,
     "metadata": {},
     "output_type": "execute_result"
    }
   ],
   "source": [
    "#Q4\n",
    "n=int(input(\"Enter your number\"))\n",
    "count=0\n",
    "while n>10:\n",
    "    n%3==0\n",
    "    count=count+1\n",
    "    n=n/3\n",
    "count\n"
   ]
  },
  {
   "cell_type": "code",
   "execution_count": 2,
   "id": "47b563cb-2560-4983-91c7-28d0622b1e11",
   "metadata": {},
   "outputs": [],
   "source": [
    "#Q5"
   ]
  },
  {
   "cell_type": "code",
   "execution_count": 4,
   "id": "a7418f68-c924-4e10-a003-663858590ae0",
   "metadata": {},
   "outputs": [],
   "source": [
    "#A while loop in Python is used when you want to repeat a block of code while a certain condition is true. The loop will continue to execute as long as the condition is true, and it will stop when the condition becomes false"
   ]
  },
  {
   "cell_type": "code",
   "execution_count": 5,
   "id": "10e99a70-fbee-475e-92cc-7a861686d540",
   "metadata": {},
   "outputs": [],
   "source": [
    "#ex"
   ]
  },
  {
   "cell_type": "code",
   "execution_count": 6,
   "id": "c340c534-3c44-4ced-a517-9d8b3772fa81",
   "metadata": {},
   "outputs": [
    {
     "name": "stdout",
     "output_type": "stream",
     "text": [
      "1\n",
      "2\n",
      "3\n",
      "4\n",
      "5\n",
      "6\n",
      "7\n",
      "8\n",
      "9\n",
      "10\n"
     ]
    }
   ],
   "source": [
    "a=1\n",
    "while a<=10:\n",
    "    print(a)\n",
    "    a=a+1"
   ]
  },
  {
   "cell_type": "code",
   "execution_count": 2,
   "id": "2537e7c2-8b14-4806-ae61-1c0b52618a92",
   "metadata": {},
   "outputs": [
    {
     "name": "stdout",
     "output_type": "stream",
     "text": [
      "*\n",
      "**\n",
      "***\n"
     ]
    }
   ],
   "source": [
    "#Q6\n",
    "n = 3\n",
    "i = 1\n",
    "while i <= n:\n",
    "    j = 1\n",
    "    while j <= i:\n",
    "        print(\"*\", end=\"\")\n",
    "        j += 1\n",
    "    print()\n",
    "    i += 1"
   ]
  },
  {
   "cell_type": "code",
   "execution_count": 20,
   "id": "d92a196c-a258-48b2-b373-eb46ad7cf711",
   "metadata": {},
   "outputs": [
    {
     "name": "stdout",
     "output_type": "stream",
     "text": [
      "10\n",
      "9\n",
      "8\n",
      "7\n",
      "6\n",
      "5\n",
      "4\n",
      "3\n",
      "2\n",
      "1\n"
     ]
    }
   ],
   "source": [
    "#Q7\n",
    "a=10\n",
    "while a>=1:\n",
    "    print(a)\n",
    "    a=a-1\n"
   ]
  },
  {
   "cell_type": "code",
   "execution_count": 21,
   "id": "6dd31527-d3e8-4d29-8a4c-6d147b075172",
   "metadata": {},
   "outputs": [
    {
     "name": "stdout",
     "output_type": "stream",
     "text": [
      "10\n",
      "9\n",
      "8\n",
      "7\n",
      "6\n",
      "5\n",
      "4\n",
      "3\n",
      "2\n",
      "1\n"
     ]
    }
   ],
   "source": [
    "#Q8\n",
    "a=10\n",
    "while a>=1:\n",
    "    print(a)\n",
    "    a=a-1\n"
   ]
  },
  {
   "cell_type": "code",
   "execution_count": null,
   "id": "e9ce196a-2696-4357-9280-ec638bdc6138",
   "metadata": {},
   "outputs": [],
   "source": []
  }
 ],
 "metadata": {
  "kernelspec": {
   "display_name": "Python 3 (ipykernel)",
   "language": "python",
   "name": "python3"
  },
  "language_info": {
   "codemirror_mode": {
    "name": "ipython",
    "version": 3
   },
   "file_extension": ".py",
   "mimetype": "text/x-python",
   "name": "python",
   "nbconvert_exporter": "python",
   "pygments_lexer": "ipython3",
   "version": "3.10.8"
  }
 },
 "nbformat": 4,
 "nbformat_minor": 5
}
