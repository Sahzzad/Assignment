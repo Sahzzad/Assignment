{
 "cells": [
  {
   "cell_type": "code",
   "execution_count": 1,
   "id": "239ead6e-a089-47e9-804a-ecaf55a4feeb",
   "metadata": {},
   "outputs": [],
   "source": [
    "# Assignment 1"
   ]
  },
  {
   "cell_type": "code",
   "execution_count": null,
   "id": "39c1ec57-38a1-476b-965a-d01c8d0d6f29",
   "metadata": {},
   "outputs": [],
   "source": [
    "# Q1\n",
    "# Ans  \n",
    "#Python programming language was created by Guido van Rossum in the late 1980s, and the first version of Python, version 0.9.0, was released in February 1991"
   ]
  },
  {
   "cell_type": "code",
   "execution_count": null,
   "id": "bfd25f32-51f7-4278-a0c9-017ff70b7917",
   "metadata": {},
   "outputs": [],
   "source": [
    "# Q2\n",
    "# ANS  \n",
    "#Python supports several programming paradigms, including:\n",
    "\n",
    "#Procedural programming - organizing the code into procedures, functions, or subroutines that perform specific tasks.\n",
    "#Functional programming - treating functions as first-class citizens and using them to solve problems by composing them together.\n",
    "#Imperative programming - giving instructions to the computer on how to execute a program, step by step.\n",
    "#Event-driven programming - responding to events, such as user input or system events, by executing code that handles those events.\n",
    "#Concurrent programming - managing multiple tasks or threads of execution to achieve concurrency.\n"
   ]
  },
  {
   "cell_type": "code",
   "execution_count": null,
   "id": "a2a595eb-d7c4-4e80-80f4-cdc6bb180d83",
   "metadata": {},
   "outputs": [],
   "source": [
    "# Q3 \n",
    "# Ans \n",
    "#Yes, Python is case-sensitive when dealing with identifiers such as variables, functions, and class names.\n",
    "#This means that variables with different capitalization are treated as different variables."
   ]
  },
  {
   "cell_type": "code",
   "execution_count": null,
   "id": "e7103db9-ca8b-46e8-a32e-0166d3725857",
   "metadata": {},
   "outputs": [],
   "source": [
    "#Q4\n",
    "#Ans\n",
    "#The correct extension for a Python file is \".py\"."
   ]
  },
  {
   "cell_type": "code",
   "execution_count": null,
   "id": "6d81e536-ba6f-41a6-9eba-ee6d07e0ac13",
   "metadata": {},
   "outputs": [],
   "source": [
    "#Q5\n",
    "#Ans\n",
    "#Python code is not compiled in the traditional sense. Instead, Python code is interpreted at runtime by the Python interpreter.\n",
    "\n",
    "#When you write a Python program, the code is saved in a text file with a \".py\" extension.\n",
    "#When you run the program, the Python interpreter reads the code from the file, compiles it into bytecode, and executes the bytecode on the fly."
   ]
  },
  {
   "cell_type": "code",
   "execution_count": null,
   "id": "91f22c9d-2c4b-4151-88b6-b0b7ee55aa0a",
   "metadata": {},
   "outputs": [],
   "source": [
    "#Q6\n",
    "#Ans\n",
    "#Python language is defined using various blocks of code, some of the important ones are:\n",
    "\n",
    "#Statements: These are individual instructions that perform a specific action. They can be simple, like assigning a value to a variable, or complex, like a loop or a conditional statement.\n",
    "\n",
    "#Functions: A function is a block of code that performs a specific task. Functions in Python are defined using the \"def\" keyword, and can take parameters and return values.\n",
    "\n",
    "#Classes: A class is a template for creating objects in Python. It defines the attributes (data) and methods (functions) that the objects will have. Classes are defined using the \"class\" keyword.\n",
    "\n",
    "#Modules: A module is a file that contains Python code, usually organized around a specific topic or purpose. Modules are imported into other Python programs using the \"import"
   ]
  },
  {
   "cell_type": "code",
   "execution_count": null,
   "id": "2933166c-ed5a-4fc4-b532-c79bd27d5137",
   "metadata": {},
   "outputs": [],
   "source": [
    "#Q7\n",
    "#Ans\n",
    "#The character used to give single line comment in Python is the hash symbol (#).\n",
    "#Any text that follows the hash symbol in a line is considered a comment and will be ignored by the Python interpreter."
   ]
  },
  {
   "cell_type": "code",
   "execution_count": null,
   "id": "a3cb7c61-f7e7-411e-9a94-0d00f5697b9c",
   "metadata": {},
   "outputs": [],
   "source": [
    "#Q8\n",
    "#Ans\n",
    "#The sys module in Python provides a function called version that can help us to find the version of Python that we are currently working on. We can use the sys.version attribute to get the version information as a string"
   ]
  },
  {
   "cell_type": "code",
   "execution_count": null,
   "id": "c53c66d2-98f2-4129-8245-7b1ad08e3d6c",
   "metadata": {},
   "outputs": [],
   "source": [
    "#Q9\n",
    "# Ans \n",
    "#lambda functions."
   ]
  },
  {
   "cell_type": "code",
   "execution_count": null,
   "id": "f616b4c1-2681-4679-93e7-631ae262666a",
   "metadata": {},
   "outputs": [],
   "source": [
    "#Q10\n",
    "#Ans\n",
    "#PIP is a package management system for installing and managing software packages written in Python. It allows users to easily install and manage third-party packages that are not included in the Python standard library. \n",
    "#PIP also helps to resolve dependencies between packages and provides tools for package distribution and installation."
   ]
  },
  {
   "cell_type": "code",
   "execution_count": null,
   "id": "f58eabf8-82bf-48a5-914c-34587b0c01f8",
   "metadata": {},
   "outputs": [],
   "source": [
    "#Q11\n",
    "#Ans\n",
    "#Here are a few built-in functions in Python:\n",
    "\n",
    "#print() - used to print the specified message to the console\n",
    "#len() - used to return the length (number of items) of an object like a string, list or tuple\n",
    "#type() - used to return the type of an object like a string, integer, or list\n",
    "#input() - used to take user input from the console\n",
    "#range() - used to generate a sequence of numbers\n",
    "#abs() - used to return the absolute value of a number\n",
    "#max() - used to return the maximum value in an iterable like a list or tuple\n",
    "#min() - used to return the minimum value in an iterable like a list or tuple\n",
    "#sum() - used to return the sum of all the elements in an iterable like a list or tuple\n",
    "#sorted() - used to return a new sorted list from the items in an iterable.\n",
    "\n",
    "\n"
   ]
  },
  {
   "cell_type": "code",
   "execution_count": null,
   "id": "26b5fc41-ce6c-4283-9175-3c61e92c5f37",
   "metadata": {},
   "outputs": [],
   "source": [
    "#Q12\n",
    "#Ans\n",
    "#The maximum length of an identifier (variable name, function name, class name, etc.) in Python is implementation-dependent.\n",
    "\n",
    "#According to the official Python documentation, there is no specified maximum length for an identifier in Python. However, there are some practical limitations to keep in mind.\n",
    "\n",
    "#For example, some programming environments or tools may impose their own limits on identifier length, so it's generally a good idea to keep identifiers relatively short and descriptive. Also, longer identifiers may be harder to read and understand, so it's usually best to strike a balance between length and clarity.\n",
    "\n",
    "#In general, it's recommended to keep identifier names to 79 characters or less to follow the PEP8 style guide."
   ]
  },
  {
   "cell_type": "code",
   "execution_count": null,
   "id": "8c24f907-44f5-45a5-b671-b706d30674a2",
   "metadata": {},
   "outputs": [],
   "source": [
    "#Q13\n",
    "#Ans\n",
    "#There are many benefits of using Python as a programming language. Here are some of the key benefits:\n",
    "\n",
    "#Easy to Learn: Python has a simple syntax that is easy to learn, making it an excellent choice for beginners.\n",
    "\n",
    "#Large Community and Support: Python has a large and active community of developers who contribute to its development and provide support through forums and online communities.\n",
    "\n",
    "#Cross-Platform: Python is a cross-platform language, meaning it can run on multiple operating systems, including Windows, Linux, and macOS.\n",
    "\n",
    "#Abundant Libraries: Python has a vast collection of libraries and frameworks for various purposes, making it easy to develop complex applications quickly.\n",
    "\n",
    "#Productivity: Python is a highly productive language, enabling developers to write code quickly and efficiently. Its dynamic typing and automatic memory management features also reduce the time needed for development.\n",
    "\n",
    "#Scalability: Python is widely used for building large-scale applications, and its performance can be optimized using various techniques such as parallel processing, multiprocessing, and distributed computing.\n",
    "\n",
    "#Data Science and Machine Learning: Python has become the go-to language for data science and machine learning, with powerful libraries such as NumPy, Pandas, and TensorFlow"
   ]
  },
  {
   "cell_type": "code",
   "execution_count": null,
   "id": "a3835e89-b8b4-4336-a22b-c5fb7d88b8e5",
   "metadata": {},
   "outputs": [],
   "source": [
    "#Q14\n",
    "#Ans\n",
    "#Memory management in Python is handled automatically by the Python interpreter through a mechanism called reference counting and garbage collection.\n",
    "\n",
    "#Reference Counting: Python uses a reference counting mechanism to keep track of the memory usage of objects. Whenever an object is created, Python assigns it a reference count, which is the number of references pointing to that object. When an object is no longer needed, its reference count is decreased by one. If the reference count of an object becomes zero, it is considered garbage and is automatically deleted from memory.\n",
    "\n",
    "#Garbage Collection: In addition to reference counting, Python also uses a garbage collection mechanism to reclaim memory used by objects that are no longer referenced. This mechanism periodically searches the memory for objects with a reference count of zero and deletes them. This process is called garbage collection.\n",
    "\n",
    "#The combination of reference counting and garbage collection ensures that memory is efficiently managed in Python without the need for manual memory management by the programmer. However, it is still important for developers to be mindful of memory usage and avoid unnecessary object creation to optimize the performance of their Python programs."
   ]
  },
  {
   "cell_type": "code",
   "execution_count": null,
   "id": "49aff68b-f30b-4488-9d64-c2b0d2052f5c",
   "metadata": {},
   "outputs": [],
   "source": [
    "#Q15\n",
    "#Ans\n",
    "#steps to install Python on Windows and set the PATH environment variable:\n",
    "\n",
    "#Download the Python installer for Windows from the official Python website: https://www.python.org/downloads/windows/\n",
    "\n",
    "#Run the downloaded installer and follow the prompts to install Python. Make sure to select the option to add Python to the system PATH during the installation process.\n",
    "\n",
    "#After installation, open the Start menu and search for \"Environment Variables.\"\n",
    "\n",
    "#Click on \"Edit the system environment variables\" and then click on the \"Environment Variables\" button.\n",
    "\n",
    "#Under \"System Variables\", scroll down and find the \"Path\" variable, then click on \"Edit\".\n",
    "\n",
    "#Click on \"New\" and add the path to the Python installation directory. For example, if Python is installed in C:\\Python39, add the following path: C:\\Python39;\n",
    "\n",
    "#Click \"OK\" on all windows to close them.\n",
    "\n",
    "#Open the command prompt and type \"python\" to test if Python is installed and the PATH variable is set correctly. If Python is installed and the PATH variable is set correctly, you should see the Python version number displayed in the command prompt."
   ]
  },
  {
   "cell_type": "code",
   "execution_count": null,
   "id": "136eaec0-c81c-4149-901c-8ca7b8090abf",
   "metadata": {},
   "outputs": [],
   "source": [
    "#Q16\n",
    "#Ans\n",
    "#Yes, indentation is required in Python. Unlike many other programming languages, Python uses whitespace, specifically indentation, to indicate the structure and scope of code blocks, such as loops, conditionals, and functions.\n",
    "\n",
    "#In Python, a block of code is defined by a group of statements that are indented to the same level. The indentation must be consistent throughout the block, usually using either tabs or spaces (but not both). \n",
    "#This helps to make the code more readable and understandable, and also ensures that the code is correctly interpreted by the Python interpreter."
   ]
  }
 ],
 "metadata": {
  "kernelspec": {
   "display_name": "Python 3 (ipykernel)",
   "language": "python",
   "name": "python3"
  },
  "language_info": {
   "codemirror_mode": {
    "name": "ipython",
    "version": 3
   },
   "file_extension": ".py",
   "mimetype": "text/x-python",
   "name": "python",
   "nbconvert_exporter": "python",
   "pygments_lexer": "ipython3",
   "version": "3.10.8"
  }
 },
 "nbformat": 4,
 "nbformat_minor": 5
}
