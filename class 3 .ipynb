{
  "metadata": {
    "toc-showcode": true,
    "language_info": {
      "codemirror_mode": {
        "name": "python",
        "version": 3
      },
      "file_extension": ".py",
      "mimetype": "text/x-python",
      "name": "python",
      "nbconvert_exporter": "python",
      "pygments_lexer": "ipython3",
      "version": "3.8"
    },
    "kernelspec": {
      "name": "python",
      "display_name": "Python (Pyodide)",
      "language": "python"
    }
  },
  "nbformat_minor": 4,
  "nbformat": 4,
  "cells": [
    {
      "cell_type": "code",
      "source": "d={}",
      "metadata": {
        "trusted": true
      },
      "execution_count": 1,
      "outputs": []
    },
    {
      "cell_type": "code",
      "source": "type(d)",
      "metadata": {
        "trusted": true
      },
      "execution_count": 2,
      "outputs": [
        {
          "execution_count": 2,
          "output_type": "execute_result",
          "data": {
            "text/plain": "dict"
          },
          "metadata": {}
        }
      ]
    },
    {
      "cell_type": "code",
      "source": "d1={'key': \"sudh\"}## word -- meaning",
      "metadata": {
        "trusted": true
      },
      "execution_count": 3,
      "outputs": []
    },
    {
      "cell_type": "code",
      "source": "d1",
      "metadata": {
        "trusted": true
      },
      "execution_count": 4,
      "outputs": [
        {
          "execution_count": 4,
          "output_type": "execute_result",
          "data": {
            "text/plain": "{'key': 'sudh'}"
          },
          "metadata": {}
        }
      ]
    },
    {
      "cell_type": "code",
      "source": "d2={'name' : 'sudhansu' , ' email ' : 'sahzzadahmad420@gmail.com' }",
      "metadata": {
        "trusted": true
      },
      "execution_count": 5,
      "outputs": []
    },
    {
      "cell_type": "code",
      "source": "d2",
      "metadata": {
        "trusted": true
      },
      "execution_count": 6,
      "outputs": [
        {
          "execution_count": 6,
          "output_type": "execute_result",
          "data": {
            "text/plain": "{'name': 'sudhansu', ' email ': 'sahzzadahmad420@gmail.com'}"
          },
          "metadata": {}
        }
      ]
    },
    {
      "cell_type": "code",
      "source": "d3= { 234 : \"sudh\" , @ : \"kumar\"} # special character not allowed",
      "metadata": {
        "trusted": true
      },
      "execution_count": 7,
      "outputs": [
        {
          "ename": "<class 'SyntaxError'>",
          "evalue": "invalid syntax (<ipython-input-7-65aa5f93ed96>, line 1)",
          "traceback": [
            "\u001b[0;36m  Cell \u001b[0;32mIn[7], line 1\u001b[0;36m\u001b[0m\n\u001b[0;31m    d3= { 234 : \"sudh\" , @ : \"kumar\"}\u001b[0m\n\u001b[0m                         ^\u001b[0m\n\u001b[0;31mSyntaxError\u001b[0m\u001b[0;31m:\u001b[0m invalid syntax\n"
          ],
          "output_type": "error"
        }
      ]
    },
    {
      "cell_type": "code",
      "source": "d3= { 234 : \"sudh\" , \"@\" : \"kumar\"} # work",
      "metadata": {
        "trusted": true
      },
      "execution_count": 12,
      "outputs": []
    },
    {
      "cell_type": "code",
      "source": "d3= { 234 : \"sudh\" , \"@\" : \"kumar\" , True : 1234} #work",
      "metadata": {
        "trusted": true
      },
      "execution_count": 13,
      "outputs": []
    },
    {
      "cell_type": "code",
      "source": "d3 # boolean work",
      "metadata": {
        "trusted": true
      },
      "execution_count": 14,
      "outputs": [
        {
          "execution_count": 14,
          "output_type": "execute_result",
          "data": {
            "text/plain": "{234: 'sudh', '@': 'kumar', True: 1234}"
          },
          "metadata": {}
        }
      ]
    },
    {
      "cell_type": "code",
      "source": "d3",
      "metadata": {
        "trusted": true
      },
      "execution_count": 11,
      "outputs": [
        {
          "execution_count": 11,
          "output_type": "execute_result",
          "data": {
            "text/plain": "{234: 'sudh', '@': 'kumar', True: 1234}"
          },
          "metadata": {}
        }
      ]
    },
    {
      "cell_type": "code",
      "source": "d3[234]",
      "metadata": {
        "trusted": true
      },
      "execution_count": 15,
      "outputs": [
        {
          "execution_count": 15,
          "output_type": "execute_result",
          "data": {
            "text/plain": "'sudh'"
          },
          "metadata": {}
        }
      ]
    },
    {
      "cell_type": "code",
      "source": "d3[True]",
      "metadata": {
        "trusted": true
      },
      "execution_count": 18,
      "outputs": [
        {
          "execution_count": 18,
          "output_type": "execute_result",
          "data": {
            "text/plain": "1234"
          },
          "metadata": {}
        }
      ]
    },
    {
      "cell_type": "code",
      "source": "d3[1] # True=1",
      "metadata": {
        "trusted": true
      },
      "execution_count": 20,
      "outputs": [
        {
          "execution_count": 20,
          "output_type": "execute_result",
          "data": {
            "text/plain": "1234"
          },
          "metadata": {}
        }
      ]
    },
    {
      "cell_type": "code",
      "source": "d4={'name':'sudh' , 'mail_id' :' ss@gmail.com' , 'name' : \" sudhanshu\"} #name two times",
      "metadata": {
        "trusted": true
      },
      "execution_count": 26,
      "outputs": []
    },
    {
      "cell_type": "code",
      "source": "d4['name'] # new key ovrwrite",
      "metadata": {
        "trusted": true
      },
      "execution_count": 27,
      "outputs": [
        {
          "execution_count": 27,
          "output_type": "execute_result",
          "data": {
            "text/plain": "' sudhanshu'"
          },
          "metadata": {}
        }
      ]
    },
    {
      "cell_type": "code",
      "source": "d5={\"company\" : \"pwskills\" , \"course\" : [ \"web dev\" , \" data sciemce\" , \"dsa\"]}",
      "metadata": {
        "trusted": true
      },
      "execution_count": 28,
      "outputs": []
    },
    {
      "cell_type": "code",
      "source": "d5",
      "metadata": {
        "trusted": true
      },
      "execution_count": 29,
      "outputs": [
        {
          "execution_count": 29,
          "output_type": "execute_result",
          "data": {
            "text/plain": "{'company': 'pwskills', 'course': ['web dev', ' data sciemce', 'dsa']}"
          },
          "metadata": {}
        }
      ]
    },
    {
      "cell_type": "code",
      "source": "d5[\"course\"]",
      "metadata": {
        "trusted": true
      },
      "execution_count": 30,
      "outputs": [
        {
          "execution_count": 30,
          "output_type": "execute_result",
          "data": {
            "text/plain": "['web dev', ' data sciemce', 'dsa']"
          },
          "metadata": {}
        }
      ]
    },
    {
      "cell_type": "code",
      "source": "d5[\"course\"][2]",
      "metadata": {
        "trusted": true
      },
      "execution_count": 31,
      "outputs": [
        {
          "execution_count": 31,
          "output_type": "execute_result",
          "data": {
            "text/plain": "'dsa'"
          },
          "metadata": {}
        }
      ]
    },
    {
      "cell_type": "code",
      "source": "d6={'number': [2,34,3,34,34] , 'assignment' : ( 1,2,3,4,50), 'launch date' : {28,12,14} , ' class_time ': {\"web_dave\": 8 ,\" data science\": 8 , \"DSA\" : 7} }",
      "metadata": {
        "trusted": true
      },
      "execution_count": 38,
      "outputs": []
    },
    {
      "cell_type": "code",
      "source": "d6 # keep dict inside dict or list or tuple",
      "metadata": {
        "trusted": true
      },
      "execution_count": 39,
      "outputs": [
        {
          "execution_count": 39,
          "output_type": "execute_result",
          "data": {
            "text/plain": "{'number': [2, 34, 3, 34, 34],\n 'assignment': (1, 2, 3, 4, 50),\n 'launch date': {12, 14, 28},\n ' class_time ': {'web_dave': 8, ' data science': 8, 'DSA': 7}}"
          },
          "metadata": {}
        }
      ]
    },
    {
      "cell_type": "code",
      "source": "d6['mentor']= [ \"sudhansu\",\"krish\"]",
      "metadata": {
        "trusted": true
      },
      "execution_count": 45,
      "outputs": []
    },
    {
      "cell_type": "code",
      "source": "d6",
      "metadata": {
        "trusted": true
      },
      "execution_count": 46,
      "outputs": [
        {
          "execution_count": 46,
          "output_type": "execute_result",
          "data": {
            "text/plain": "{'number': [2, 34, 3, 34, 34],\n 'assignment': (1, 2, 3, 4, 50),\n 'launch date': {12, 14, 28},\n ' class_time ': {'web_dave': 8, ' data science': 8, 'DSA': 7},\n 'mentor': ['sudhansu', 'krish']}"
          },
          "metadata": {}
        }
      ]
    },
    {
      "cell_type": "code",
      "source": "del d6['number']",
      "metadata": {
        "trusted": true
      },
      "execution_count": 48,
      "outputs": []
    },
    {
      "cell_type": "code",
      "source": "d6",
      "metadata": {
        "trusted": true
      },
      "execution_count": 49,
      "outputs": [
        {
          "execution_count": 49,
          "output_type": "execute_result",
          "data": {
            "text/plain": "{'assignment': (1, 2, 3, 4, 50),\n 'launch date': {12, 14, 28},\n ' class_time ': {'web_dave': 8, ' data science': 8, 'DSA': 7},\n 'mentor': ['sudhansu', 'krish']}"
          },
          "metadata": {}
        }
      ]
    },
    {
      "cell_type": "code",
      "source": "d6.keys() ## make list",
      "metadata": {
        "trusted": true
      },
      "execution_count": 51,
      "outputs": [
        {
          "execution_count": 51,
          "output_type": "execute_result",
          "data": {
            "text/plain": "dict_keys(['assignment', 'launch date', ' class_time ', 'mentor'])"
          },
          "metadata": {}
        }
      ]
    },
    {
      "cell_type": "code",
      "source": "list(d6.keys())",
      "metadata": {
        "trusted": true
      },
      "execution_count": 52,
      "outputs": [
        {
          "execution_count": 52,
          "output_type": "execute_result",
          "data": {
            "text/plain": "['assignment', 'launch date', ' class_time ', 'mentor']"
          },
          "metadata": {}
        }
      ]
    },
    {
      "cell_type": "code",
      "source": "d6.values()",
      "metadata": {
        "trusted": true
      },
      "execution_count": 53,
      "outputs": [
        {
          "execution_count": 53,
          "output_type": "execute_result",
          "data": {
            "text/plain": "dict_values([(1, 2, 3, 4, 50), {28, 12, 14}, {'web_dave': 8, ' data science': 8, 'DSA': 7}, ['sudhansu', 'krish']])"
          },
          "metadata": {}
        }
      ]
    },
    {
      "cell_type": "code",
      "source": "list(d6.values())",
      "metadata": {
        "trusted": true
      },
      "execution_count": 54,
      "outputs": [
        {
          "execution_count": 54,
          "output_type": "execute_result",
          "data": {
            "text/plain": "[(1, 2, 3, 4, 50),\n {12, 14, 28},\n {'web_dave': 8, ' data science': 8, 'DSA': 7},\n ['sudhansu', 'krish']]"
          },
          "metadata": {}
        }
      ]
    },
    {
      "cell_type": "code",
      "source": "d6.items()",
      "metadata": {
        "trusted": true
      },
      "execution_count": 55,
      "outputs": [
        {
          "execution_count": 55,
          "output_type": "execute_result",
          "data": {
            "text/plain": "dict_items([('assignment', (1, 2, 3, 4, 50)), ('launch date', {28, 12, 14}), (' class_time ', {'web_dave': 8, ' data science': 8, 'DSA': 7}), ('mentor', ['sudhansu', 'krish'])])"
          },
          "metadata": {}
        }
      ]
    },
    {
      "cell_type": "code",
      "source": "list(d6.items()) # key and value pair",
      "metadata": {
        "trusted": true
      },
      "execution_count": 57,
      "outputs": [
        {
          "execution_count": 57,
          "output_type": "execute_result",
          "data": {
            "text/plain": "[('assignment', (1, 2, 3, 4, 50)),\n ('launch date', {12, 14, 28}),\n (' class_time ', {'web_dave': 8, ' data science': 8, 'DSA': 7}),\n ('mentor', ['sudhansu', 'krish'])]"
          },
          "metadata": {}
        }
      ]
    },
    {
      "cell_type": "code",
      "source": "d6.pop('assignment')",
      "metadata": {
        "trusted": true
      },
      "execution_count": 59,
      "outputs": [
        {
          "execution_count": 59,
          "output_type": "execute_result",
          "data": {
            "text/plain": "(1, 2, 3, 4, 50)"
          },
          "metadata": {}
        }
      ]
    },
    {
      "cell_type": "code",
      "source": "d6",
      "metadata": {
        "trusted": true
      },
      "execution_count": 60,
      "outputs": [
        {
          "execution_count": 60,
          "output_type": "execute_result",
          "data": {
            "text/plain": "{'launch date': {12, 14, 28},\n ' class_time ': {'web_dave': 8, ' data science': 8, 'DSA': 7},\n 'mentor': ['sudhansu', 'krish']}"
          },
          "metadata": {}
        }
      ]
    },
    {
      "cell_type": "code",
      "source": "d6.pop() # here error\n",
      "metadata": {
        "trusted": true
      },
      "execution_count": 62,
      "outputs": [
        {
          "ename": "<class 'TypeError'>",
          "evalue": "pop expected at least 1 argument, got 0",
          "traceback": [
            "\u001b[0;31m---------------------------------------------------------------------------\u001b[0m",
            "\u001b[0;31mTypeError\u001b[0m                                 Traceback (most recent call last)",
            "Cell \u001b[0;32mIn[62], line 1\u001b[0m\n\u001b[0;32m----> 1\u001b[0m \u001b[43md6\u001b[49m\u001b[38;5;241;43m.\u001b[39;49m\u001b[43mpop\u001b[49m\u001b[43m(\u001b[49m\u001b[43m)\u001b[49m \u001b[38;5;66;03m# here error\u001b[39;00m\n",
            "\u001b[0;31mTypeError\u001b[0m: pop expected at least 1 argument, got 0"
          ],
          "output_type": "error"
        }
      ]
    },
    {
      "cell_type": "code",
      "source": "marks =-65\nif marks >= 80 :\n    print( \" you will be part of A0 batch\")\nelif marks >= 60  and marks < 80  :\n    print ( \" you will be part of A1 batch\")\nelif marks >= 40 and  marks < 60:\n    print ( \" you will be part of A2 batch\")\nelse:\n    print ( \" you will be part of A3 batch\")\n\n",
      "metadata": {
        "trusted": true
      },
      "execution_count": 72,
      "outputs": [
        {
          "name": "stdout",
          "text": " you will be part of A3 batch\n",
          "output_type": "stream"
        }
      ]
    },
    {
      "cell_type": "code",
      "source": "marks = input (\" enter your marks \" )",
      "metadata": {
        "trusted": true
      },
      "execution_count": 1,
      "outputs": []
    },
    {
      "cell_type": "code",
      "source": "1+2",
      "metadata": {
        "trusted": true
      },
      "execution_count": 1,
      "outputs": [
        {
          "execution_count": 1,
          "output_type": "execute_result",
          "data": {
            "text/plain": "3"
          },
          "metadata": {}
        }
      ]
    },
    {
      "cell_type": "code",
      "source": "l= [ 1,2,3,4,5,6,7,8] #  Q add 1 to each element",
      "metadata": {
        "trusted": true
      },
      "execution_count": 5,
      "outputs": []
    },
    {
      "cell_type": "code",
      "source": "l1 = []\nfor i in l:\n    print(i+1) \n    l1.append(i+1)\nl1",
      "metadata": {
        "trusted": true
      },
      "execution_count": 7,
      "outputs": [
        {
          "name": "stdout",
          "text": "2\n3\n4\n5\n6\n7\n8\n9\n",
          "output_type": "stream"
        },
        {
          "execution_count": 7,
          "output_type": "execute_result",
          "data": {
            "text/plain": "[2, 3, 4, 5, 6, 7, 8, 9]"
          },
          "metadata": {}
        }
      ]
    },
    {
      "cell_type": "code",
      "source": "l\n",
      "metadata": {
        "trusted": true
      },
      "execution_count": 8,
      "outputs": [
        {
          "execution_count": 8,
          "output_type": "execute_result",
          "data": {
            "text/plain": "[1, 2, 3, 4, 5, 6, 7, 8]"
          },
          "metadata": {}
        }
      ]
    },
    {
      "cell_type": "code",
      "source": "l= [ \" sudh\" , \" kumar\" , \" pwskills\" , \"course\"]  # Q convert in upper case",
      "metadata": {
        "trusted": true
      },
      "execution_count": 9,
      "outputs": []
    },
    {
      "cell_type": "code",
      "source": "l1 = []\nfor i in l :\n    print (i)\n    l1.append(i.upper())",
      "metadata": {
        "trusted": true
      },
      "execution_count": 11,
      "outputs": [
        {
          "name": "stdout",
          "text": " sudh\n kumar\n pwskills\ncourse\n",
          "output_type": "stream"
        }
      ]
    },
    {
      "cell_type": "code",
      "source": "l1",
      "metadata": {
        "trusted": true
      },
      "execution_count": 12,
      "outputs": [
        {
          "execution_count": 12,
          "output_type": "execute_result",
          "data": {
            "text/plain": "[' SUDH', ' KUMAR', ' PWSKILLS', 'COURSE']"
          },
          "metadata": {}
        }
      ]
    },
    {
      "cell_type": "code",
      "source": " l= [ 1,2,3,4,4,\"sudh\",\"kumar\",324,34.456,\"abc\"] # Q make two separate list",
      "metadata": {
        "trusted": true
      },
      "execution_count": 13,
      "outputs": []
    },
    {
      "cell_type": "code",
      "source": "l1_num=[]\nl2_str=[]\nfor i in l :\n    if type(i) == int or type(i) == float:\n        l1_num.append(i)\n    else :\n        l2_str.append(i)\n    ",
      "metadata": {
        "trusted": true
      },
      "execution_count": 19,
      "outputs": []
    },
    {
      "cell_type": "code",
      "source": "l1_num",
      "metadata": {
        "trusted": true
      },
      "execution_count": 20,
      "outputs": [
        {
          "execution_count": 20,
          "output_type": "execute_result",
          "data": {
            "text/plain": "[1, 2, 3, 4, 4, 324, 34.456]"
          },
          "metadata": {}
        }
      ]
    },
    {
      "cell_type": "code",
      "source": "l2_str",
      "metadata": {
        "trusted": true
      },
      "execution_count": 22,
      "outputs": [
        {
          "execution_count": 22,
          "output_type": "execute_result",
          "data": {
            "text/plain": "['sudh', 'kumar', 'abc']"
          },
          "metadata": {}
        }
      ]
    },
    {
      "cell_type": "code",
      "source": "",
      "metadata": {},
      "execution_count": null,
      "outputs": []
    }
  ]
}